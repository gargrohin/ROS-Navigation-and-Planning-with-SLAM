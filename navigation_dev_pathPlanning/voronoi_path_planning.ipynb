{
  "nbformat": 4,
  "nbformat_minor": 0,
  "metadata": {
    "colab": {
      "name": "voronoi path planning.ipynb",
      "provenance": [],
      "collapsed_sections": []
    },
    "kernelspec": {
      "name": "python3",
      "display_name": "Python 3"
    },
    "language_info": {
      "name": "python"
    }
  },
  "cells": [
    {
      "cell_type": "code",
      "metadata": {
        "id": "dCRvs9Ua-xtf"
      },
      "source": [
        "import numpy as np"
      ],
      "execution_count": null,
      "outputs": []
    },
    {
      "cell_type": "code",
      "metadata": {
        "id": "aJ19zhJy_RA4"
      },
      "source": [
        "## x and y denote the April tag positions\n",
        "## x0 and y0 denote the positions of the obstacles\n",
        "\n",
        "x = [0.0, 0.5, 1.0, 1.5, 2.0]\n",
        "y = [-0.8, -0.3, 0.2, 0.5, 0.9]\n",
        "xo = [0.8, 1.2]\n",
        "yo = [-0.25, 0.1]\n",
        "\n",
        "points = []\n",
        "xx = []\n",
        "yy = []\n",
        "for xi in x:\n",
        "  points.append([xi, -0.8])\n",
        "  points.append([xi, 0.9])\n",
        "for yi in y[1:4]:\n",
        "  points.append([0.0, yi])\n",
        "  points.append([2.0,yi])\n",
        "\n",
        "for xi in xo:\n",
        "  for yi in yo:\n",
        "    points.append([xi,yi])\n",
        "points = np.array(points)\n",
        "\n",
        "from scipy.spatial import Voronoi, voronoi_plot_2d\n",
        "vor = Voronoi(points)\n"
      ],
      "execution_count": null,
      "outputs": []
    },
    {
      "cell_type": "code",
      "metadata": {
        "colab": {
          "base_uri": "https://localhost:8080/",
          "height": 265
        },
        "id": "ppFnY_ew_Pka",
        "outputId": "2ac0a966-1e34-4bf0-9fce-2809242f7645"
      },
      "source": [
        "##voronoi regions plotted\n",
        "\n",
        "import matplotlib.pyplot as plt\n",
        "fig = voronoi_plot_2d(vor)\n",
        "plt.show()"
      ],
      "execution_count": null,
      "outputs": [
        {
          "output_type": "display_data",
          "data": {
            "image/png": "[encoded data removed]",
            "text/plain": [
              "<Figure size 432x288 with 1 Axes>"
            ]
          },
          "metadata": {
            "needs_background": "light"
          }
        }
      ]
    },
    {
      "cell_type": "code",
      "metadata": {
        "colab": {
          "base_uri": "https://localhost:8080/"
        },
        "id": "YQqR7EKI5fch",
        "outputId": "23992a98-eaf6-4ebc-e2e2-ecb0042ec9c8"
      },
      "source": [
        "# print(\"vertices :: \",np.round(vertices, 2)[])\n",
        "\n",
        "for i in range(len(vertices)):\n",
        "  print(i,\"  ::  \",np.round(vertices[i], 2))\n",
        "\n",
        "print(graph)"
      ],
      "execution_count": null,
      "outputs": [
        {
          "output_type": "stream",
          "name": "stdout",
          "text": [
            "0   ::   [ 0.38 -0.05]\n",
            "1   ::   [0.43 0.35]\n",
            "2   ::   [ 0.25 -0.55]\n",
            "3   ::   [0.25 0.7 ]\n",
            "4   ::   [0.75 0.54]\n",
            "5   ::   [0.47 0.43]\n",
            "6   ::   [ 1.25 -0.58]\n",
            "7   ::   [ 1.75 -0.55]\n",
            "8   ::   [ 1.59 -0.39]\n",
            "9   ::   [1.75 0.7 ]\n",
            "10   ::   [ 0.75 -0.58]\n",
            "11   ::   [ 1.   -0.49]\n",
            "12   ::   [ 0.39 -0.08]\n",
            "13   ::   [ 0.41 -0.39]\n",
            "14   ::   [1.58 0.35]\n",
            "15   ::   [1.53 0.43]\n",
            "16   ::   [ 1.62 -0.05]\n",
            "17   ::   [ 1.61 -0.07]\n",
            "18   ::   [1.25 0.54]\n",
            "19   ::   [1.   0.48]\n",
            "20   ::   [ 1.   -0.07]\n",
            "{0: [], 1: [], 2: [], 3: [], 4: [], 5: [], 6: [], 7: [], 8: [], 9: [], 10: [], 11: [], 12: [], 13: [], 14: [], 15: [], 16: [], 17: [], 18: [], 19: [], 20: []}\n"
          ]
        }
      ]
    },
    {
      "cell_type": "code",
      "metadata": {
        "colab": {
          "base_uri": "https://localhost:8080/"
        },
        "id": "61FDi-o3AgZy",
        "outputId": "166c1bf3-fa65-4d33-985d-a69a1546c526"
      },
      "source": [
        "## We store the coordinates of the corners of the voronoi regions in hashset\n",
        "\n",
        "vertices = vor.vertices\n",
        "# print(\"vertices :: \",np.round(vertices, 2))\n",
        "graph = {}\n",
        "hashset = {}\n",
        "for ind in range(len(vertices)):\n",
        "  graph[ind] = []\n",
        "  v = vertices[ind]\n",
        "  if v[0] > 2.5 or v[0] < -0.5:\n",
        "    continue\n",
        "  if v[1] > 2.5 or v[1] < -1.0:\n",
        "    continue\n",
        "  hashset[ind] = [v[0],v[1]]\n",
        "  # print(v)\n",
        "  # print(\"hashset :: \",hashset)\n",
        "  # print(\"-------------------\")\n",
        "  # print(hashset[ind])\n",
        "# print(\"graph :: \",graph)  \n",
        "print(\"hashset :: \",hashset)\n",
        "Total_path = [1, 0, 12, 20, 11,20,17]"
      ],
      "execution_count": null,
      "outputs": [
        {
          "output_type": "stream",
          "name": "stdout",
          "text": [
            "hashset ::  {0: [0.37500000000000006, -0.04999999999999999], 1: [0.4250000000000001, 0.35], 2: [0.25, -0.55], 3: [0.25, 0.7], 4: [0.75, 0.5374999999999999], 5: [0.4653846153846154, 0.43076923076923074], 6: [1.25, -0.5795454545454546], 7: [1.75, -0.55], 8: [1.5926470588235295, -0.39264705882352935], 9: [1.75, 0.7], 10: [0.75, -0.5795454545454546], 11: [1.0, -0.48863636363636365], 12: [0.3875, -0.07500000000000001], 13: [0.40735294117647064, -0.39264705882352935], 14: [1.575, 0.35], 15: [1.5346153846153845, 0.4307692307692308], 16: [1.625, -0.04999999999999996], 17: [1.6125, -0.07499999999999998], 18: [1.25, 0.5375000000000001], 19: [1.0, 0.4750000000000001], 20: [1.0, -0.07499999999999998]}\n"
          ]
        }
      ]
    },
    {
      "cell_type": "code",
      "metadata": {
        "colab": {
          "base_uri": "https://localhost:8080/"
        },
        "id": "kG9pkQldAq4G",
        "outputId": "03934e25-c39a-417c-d09a-3266f101428e"
      },
      "source": [
        "## Create an adjacency list with the hashset coordinates nand store it in graph\n",
        "\n",
        "ridges = vor.ridge_vertices\n",
        "print(ridges)\n",
        "for r in ridges:\n",
        "  v1 = r[0]\n",
        "  v2 = r[1]\n",
        "\n",
        "  if v1 == -1 or v2 == -1:\n",
        "    continue\n",
        "  graph[v1].append(v2)\n",
        "  graph[v2].append(v1)\n",
        "print(\"graph :: \",graph) "
      ],
      "execution_count": null,
      "outputs": [
        {
          "output_type": "stream",
          "name": "stdout",
          "text": [
            "[[-1, 1], [-1, 0], [0, 1], [-1, 3], [1, 5], [3, 5], [-1, 2], [-1, 2], [-1, 7], [-1, 7], [-1, 6], [6, 8], [7, 8], [-1, 9], [-1, 9], [-1, 3], [-1, 4], [4, 5], [-1, 10], [2, 13], [10, 13], [6, 11], [10, 11], [0, 12], [12, 13], [14, 15], [14, 16], [15, 18], [16, 17], [17, 20], [19, 20], [18, 19], [-1, 14], [9, 15], [-1, 16], [-1, 18], [8, 17], [11, 20], [4, 19], [12, 20]]\n",
            "graph ::  {0: [1, 12], 1: [0, 5], 2: [13], 3: [5], 4: [5, 19], 5: [1, 3, 4], 6: [8, 11], 7: [8], 8: [6, 7, 17], 9: [15], 10: [13, 11], 11: [6, 10, 20], 12: [0, 13, 20], 13: [2, 10, 12], 14: [15, 16], 15: [14, 18, 9], 16: [14, 17], 17: [16, 20, 8], 18: [15, 19], 19: [20, 18, 4], 20: [17, 19, 11, 12]}\n"
          ]
        }
      ]
    },
    {
      "cell_type": "code",
      "metadata": {
        "colab": {
          "base_uri": "https://localhost:8080/"
        },
        "id": "UJh4ZHkzBdQ8",
        "outputId": "5b218186-a040-4725-c68d-da92327500f6"
      },
      "source": [
        "## We check if a point (and the edge attached to that point) passes through a polygon (obstacle in our case)\n",
        "\n",
        "from shapely.geometry import Point\n",
        "from shapely.geometry.polygon import Polygon\n",
        "\n",
        "point = Point(1.0, -0.074)\n",
        "polygon = Polygon([(0.8, -0.25), (0.8, 0.1), (1.2, 0.1), (1.2, -0.25)])\n",
        "print(point.within(polygon))"
      ],
      "execution_count": null,
      "outputs": [
        {
          "output_type": "stream",
          "name": "stdout",
          "text": [
            "True\n"
          ]
        }
      ]
    },
    {
      "cell_type": "code",
      "metadata": {
        "id": "6WtvqfZTAzGi"
      },
      "source": [
        "##Write a method to determine the shortest distance between two points\n",
        "\n",
        "import queue\n",
        "def bfs(start, dest):\n",
        "  visited = []\n",
        "  q = queue.Queue(maxsize=10000)\n",
        "  q.put(start)\n",
        "  parents = {}\n",
        "  parents[start] = -1\n",
        "  while not q.empty():\n",
        "    current = q.get()\n",
        "    curr_x = hashset[current][0]\n",
        "    curr_y = hashset[current][1]\n",
        "    visited.append(current)\n",
        "    # print(\"current :: \",current)\n",
        "    if current == dest:\n",
        "      break\n",
        "    neighbours = graph[current]\n",
        "    for n in neighbours:\n",
        "      # print(n)\n",
        "      # print(\"coordinates :: \",hashset[n][0],\":::\",hashset[n][1])\n",
        "      if n not in visited and polygon.contains(Point(hashset[n][0],hashset[n][1])) == False:\n",
        "        q.put(n)\n",
        "        parents[n] = current\n",
        "        # print(\"parent added for :: \",n)\n",
        "  return parents\n",
        "   "
      ],
      "execution_count": null,
      "outputs": []
    },
    {
      "cell_type": "code",
      "metadata": {
        "id": "LI3-A3LQBBjt",
        "colab": {
          "base_uri": "https://localhost:8080/"
        },
        "outputId": "646bf869-558e-4d33-aaea-f132ff922360"
      },
      "source": [
        "## Moving from point 0 to point 1\n",
        "\n",
        "s = 1\n",
        "e = 11\n",
        "print(hashset)\n",
        "parents = bfs(s,e)\n",
        "# print(\"parents::\",parents)"
      ],
      "execution_count": null,
      "outputs": [
        {
          "output_type": "stream",
          "name": "stdout",
          "text": [
            "{0: [0.37500000000000006, -0.04999999999999999], 1: [0.4250000000000001, 0.35], 2: [0.25, -0.55], 3: [0.25, 0.7], 4: [0.75, 0.5374999999999999], 5: [0.4653846153846154, 0.43076923076923074], 6: [1.25, -0.5795454545454546], 7: [1.75, -0.55], 8: [1.5926470588235295, -0.39264705882352935], 9: [1.75, 0.7], 10: [0.75, -0.5795454545454546], 11: [1.0, -0.48863636363636365], 12: [0.3875, -0.07500000000000001], 13: [0.40735294117647064, -0.39264705882352935], 14: [1.575, 0.35], 15: [1.5346153846153845, 0.4307692307692308], 16: [1.625, -0.04999999999999996], 17: [1.6125, -0.07499999999999998], 18: [1.25, 0.5375000000000001], 19: [1.0, 0.4750000000000001], 20: [1.0, -0.07499999999999998]}\n"
          ]
        }
      ]
    },
    {
      "cell_type": "code",
      "metadata": {
        "colab": {
          "base_uri": "https://localhost:8080/"
        },
        "id": "dM7Vz5OfGO0C",
        "outputId": "65d7154f-60fb-4b97-ef81-0680236a833c"
      },
      "source": [
        "print(parents)"
      ],
      "execution_count": null,
      "outputs": [
        {
          "output_type": "stream",
          "name": "stdout",
          "text": [
            "{1: -1, 0: 1, 5: 1, 12: 0, 3: 5, 4: 5, 13: 12, 19: 4, 2: 13, 10: 13, 18: 19, 11: 10, 15: 18}\n"
          ]
        }
      ]
    },
    {
      "cell_type": "code",
      "metadata": {
        "colab": {
          "base_uri": "https://localhost:8080/"
        },
        "id": "Nnsh8kWaBI_f",
        "outputId": "960e57e5-fd95-46a2-9288-b851606d871c"
      },
      "source": [
        "def getPath(end):\n",
        "  print(end)\n",
        "  if parents[end] == -1:\n",
        "    return\n",
        "  path.append(parents[end])\n",
        "  getPath(parents[end])\n",
        "\n",
        "end = e\n",
        "path = []\n",
        "path = [end]\n",
        "getPath(end)\n",
        "path.reverse()\n",
        "print(\"path :: \",path)"
      ],
      "execution_count": null,
      "outputs": [
        {
          "output_type": "stream",
          "name": "stdout",
          "text": [
            "11\n",
            "10\n",
            "13\n",
            "12\n",
            "0\n",
            "1\n",
            "path ::  [1, 0, 12, 13, 10, 11]\n"
          ]
        }
      ]
    },
    {
      "cell_type": "code",
      "metadata": {
        "colab": {
          "base_uri": "https://localhost:8080/"
        },
        "id": "yfbLs_VKTzIT",
        "outputId": "f33892c2-9c91-484b-db01-28a3d9e9e303"
      },
      "source": [
        "## Moving from point 1 to point 2\n",
        "\n",
        "s = 11\n",
        "e = 14\n",
        "print(hashset)\n",
        "parents = bfs(s,e)\n",
        "# print(\"parents::\",parents)"
      ],
      "execution_count": null,
      "outputs": [
        {
          "output_type": "stream",
          "name": "stdout",
          "text": [
            "{0: [0.37500000000000006, -0.04999999999999999], 1: [0.4250000000000001, 0.35], 2: [0.25, -0.55], 3: [0.25, 0.7], 4: [0.75, 0.5374999999999999], 5: [0.4653846153846154, 0.43076923076923074], 6: [1.25, -0.5795454545454546], 7: [1.75, -0.55], 8: [1.5926470588235295, -0.39264705882352935], 9: [1.75, 0.7], 10: [0.75, -0.5795454545454546], 11: [1.0, -0.48863636363636365], 12: [0.3875, -0.07500000000000001], 13: [0.40735294117647064, -0.39264705882352935], 14: [1.575, 0.35], 15: [1.5346153846153845, 0.4307692307692308], 16: [1.625, -0.04999999999999996], 17: [1.6125, -0.07499999999999998], 18: [1.25, 0.5375000000000001], 19: [1.0, 0.4750000000000001], 20: [1.0, -0.07499999999999998]}\n"
          ]
        }
      ]
    },
    {
      "cell_type": "code",
      "metadata": {
        "colab": {
          "base_uri": "https://localhost:8080/"
        },
        "id": "G5EJzfnFFZLr",
        "outputId": "cce45af0-240b-4a4d-dcbb-cbbfa83299c5"
      },
      "source": [
        "def getPath(end):\n",
        "  print(end)\n",
        "  if parents[end] == -1:\n",
        "    return\n",
        "  path2.append(parents[end])\n",
        "  getPath(parents[end])\n",
        "\n",
        "end = 14\n",
        "print(parents)\n",
        "path2 = []\n",
        "path2 = [end]\n",
        "getPath(end)\n",
        "path2.reverse()\n",
        "print(\"path2 :: \",path2)"
      ],
      "execution_count": null,
      "outputs": [
        {
          "output_type": "stream",
          "name": "stdout",
          "text": [
            "{11: -1, 6: 11, 10: 11, 8: 6, 13: 10, 7: 8, 17: 8, 2: 13, 12: 13, 16: 17, 0: 12, 14: 16, 1: 0}\n",
            "14\n",
            "16\n",
            "17\n",
            "8\n",
            "6\n",
            "11\n",
            "path2 ::  [11, 6, 8, 17, 16, 14]\n"
          ]
        }
      ]
    },
    {
      "cell_type": "code",
      "metadata": {
        "colab": {
          "base_uri": "https://localhost:8080/"
        },
        "id": "HgM9Lwx4GvGg",
        "outputId": "4b20008f-cf99-4889-b9cb-ca0e1664d8ee"
      },
      "source": [
        "total_path = path + path2[1:]\n",
        "print(total_path)"
      ],
      "execution_count": null,
      "outputs": [
        {
          "output_type": "stream",
          "name": "stdout",
          "text": [
            "[1, 0, 12, 13, 10, 11, 6, 8, 17, 16, 14]\n"
          ]
        }
      ]
    },
    {
      "cell_type": "code",
      "metadata": {
        "id": "uzbXNoB7T3dV",
        "colab": {
          "base_uri": "https://localhost:8080/"
        },
        "outputId": "6e89cf67-ef0a-4b83-d4a8-f88683837d06"
      },
      "source": [
        "Total_path = total_path\n",
        "print(hashset)\n",
        "WAYPOINTS = []\n",
        "\n",
        "for i in range(len(Total_path)):\n",
        "  WAYPOINTS.append(hashset[Total_path[i]])"
      ],
      "execution_count": null,
      "outputs": [
        {
          "output_type": "stream",
          "name": "stdout",
          "text": [
            "{0: [0.37500000000000006, -0.04999999999999999], 1: [0.4250000000000001, 0.35], 2: [0.25, -0.55], 3: [0.25, 0.7], 4: [0.75, 0.5374999999999999], 5: [0.4653846153846154, 0.43076923076923074], 6: [1.25, -0.5795454545454546], 7: [1.75, -0.55], 8: [1.5926470588235295, -0.39264705882352935], 9: [1.75, 0.7], 10: [0.75, -0.5795454545454546], 11: [1.0, -0.48863636363636365], 12: [0.3875, -0.07500000000000001], 13: [0.40735294117647064, -0.39264705882352935], 14: [1.575, 0.35], 15: [1.5346153846153845, 0.4307692307692308], 16: [1.625, -0.04999999999999996], 17: [1.6125, -0.07499999999999998], 18: [1.25, 0.5375000000000001], 19: [1.0, 0.4750000000000001], 20: [1.0, -0.07499999999999998]}\n"
          ]
        }
      ]
    },
    {
      "cell_type": "code",
      "metadata": {
        "colab": {
          "base_uri": "https://localhost:8080/"
        },
        "id": "KipcKHdVUFR3",
        "outputId": "78cdeb5f-378d-427c-99af-8aecdc19c7a5"
      },
      "source": [
        "print(\"WAYPOINTS :: \", WAYPOINTS)"
      ],
      "execution_count": null,
      "outputs": [
        {
          "output_type": "stream",
          "name": "stdout",
          "text": [
            "WAYPOINTS ::  [[0.4250000000000001, 0.35], [0.37500000000000006, -0.04999999999999999], [0.3875, -0.07500000000000001], [0.40735294117647064, -0.39264705882352935], [0.75, -0.5795454545454546], [1.0, -0.48863636363636365], [1.25, -0.5795454545454546], [1.5926470588235295, -0.39264705882352935], [1.6125, -0.07499999999999998], [1.625, -0.04999999999999996], [1.575, 0.35]]\n"
          ]
        }
      ]
    },
    {
      "cell_type": "markdown",
      "metadata": {
        "id": "YQxcAAivR6xS"
      },
      "source": [
        "We Copy the above waypoints into the planner_node file in the jetbot. The rest of the motion model is the same as our assignment 2 code. We can right this algorithm in the jetbot itself on a ROS node for dynamically changing end points, but for this assignment we do it separately on a notebook to visualize the points."
      ]
    },
    {
      "cell_type": "code",
      "metadata": {
        "colab": {
          "base_uri": "https://localhost:8080/",
          "height": 297
        },
        "id": "-PwuQRvZmmhD",
        "outputId": "a7397953-09ae-4b2e-f6fb-22f5964023c9"
      },
      "source": [
        "# import matplotlib.pyplot as plt\n",
        "# fig = plt.figure\n",
        "# points_x\n",
        "\n",
        "# plt.scatter(xx,yy)\n",
        "\n",
        "xv = []\n",
        "yv = []\n",
        "for p in points:\n",
        "  xv.append(p[0])\n",
        "  yv.append(p[1])\n",
        "\n",
        "xx = []\n",
        "yy = []\n",
        "\n",
        "for p in WAYPOINTS:\n",
        "  xx.append(p[0])\n",
        "  yy.append(p[1])\n",
        "\n",
        "vx = []\n",
        "vy = []\n",
        "for p in vertices:\n",
        "  vx.append(p[0])\n",
        "  vy.append(p[1])\n",
        "\n",
        "obstacles_x = [0.8,0.8, 1.2, 1.2]\n",
        "obstacles_y = [-0.25, 0.1, -0.25, 0.1]\n",
        "\n",
        "start_x = [0.43]\n",
        "start_y = [0.35]\n",
        "\n",
        "first_stop_x = [[[ 1.25 ]]]\n",
        "first_stop_y = [-0.58]\n",
        "\n",
        "second_stop_x = [[1.58]]\n",
        "second_stop_y = [0.35]\n",
        "\n",
        "plt.scatter(xv,yv,c = 'blue', label=\"April tags\")\n",
        "plt.scatter(vx,vy, c='green', label=\"corners of voronoi regions\")\n",
        "plt.plot(xx,yy, c='black', label=\"Path traversed by robot\")\n",
        "plt.scatter(obstacles_x,obstacles_y, c='red', label=\"Coordinates of rectangular obstacle\")\n",
        "plt.scatter(start_x,start_y, c='pink', label=\"start point of robot\")\n",
        "plt.scatter(first_stop_x,first_stop_y, c='orange', label=\"first stop\")\n",
        "plt.scatter(second_stop_x,second_stop_y, c='purple', label=\"second stop\")\n",
        "plt.legend(loc='upper center', bbox_to_anchor=(0.5, -0.05),\n",
        "          fancybox=True, shadow=True, ncol=4)\n",
        "plt.show()"
      ],
      "execution_count": null,
      "outputs": [
        {
          "output_type": "display_data",
          "data": {
            "image/png": "[encoded data removed]",
            "text/plain": [
              "<Figure size 432x288 with 1 Axes>"
            ]
          },
          "metadata": {
            "needs_background": "light"
          }
        }
      ]
    }
  ]
}