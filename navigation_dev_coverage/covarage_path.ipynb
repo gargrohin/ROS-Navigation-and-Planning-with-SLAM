{
  "nbformat": 4,
  "nbformat_minor": 0,
  "metadata": {
    "colab": {
      "name": "CSE 276A HW5.ipynb",
      "provenance": [],
      "collapsed_sections": []
    },
    "kernelspec": {
      "name": "python3",
      "display_name": "Python 3"
    },
    "language_info": {
      "name": "python"
    }
  },
  "cells": [
    {
      "cell_type": "code",
      "metadata": {
        "colab": {
          "base_uri": "https://localhost:8080/",
          "height": 282
        },
        "id": "un9FQ7dpQR6W",
        "outputId": "b73def97-d02c-467b-b570-8746548beef7"
      },
      "source": [
        "x = [0.0,1.5]\n",
        "y = [0.0,0.5]\n",
        "# plt.scatter(x,y)\n",
        "x1 = []\n",
        "y1 = []\n",
        "xcor = 0.1\n",
        "ycor = 0.0\n",
        "\n",
        "while ycor<=0.5:\n",
        "  for i in range(0,15):\n",
        "    x1.append(xcor)\n",
        "    y1.append(ycor)\n",
        "    if round(xcor,2) >= 1.1:\n",
        "      break\n",
        "    xcor = xcor+0.2\n",
        "  x1.append(xcor)\n",
        "  y1.append(ycor)\n",
        "  ycor = ycor+0.1\n",
        "\n",
        "  for i in range(0,15):\n",
        "    if xcor < 0.1:\n",
        "      break\n",
        "    x1.append(xcor)\n",
        "    y1.append(ycor)\n",
        "    if xcor <= 0:\n",
        "      break\n",
        "    xcor = xcor-0.2\n",
        "  x1.append(xcor)\n",
        "  y1.append(ycor)\n",
        "  ycor = ycor+0.1\n",
        "plt.scatter(x1,y1)\n",
        "\n",
        "plt.plot(x1,y1)\n"
      ],
      "execution_count": null,
      "outputs": [
        {
          "output_type": "execute_result",
          "data": {
            "text/plain": [
              "[<matplotlib.lines.Line2D at 0x7fb7bf9092d0>]"
            ]
          },
          "metadata": {},
          "execution_count": 4
        },
        {
          "output_type": "display_data",
          "data": {
            "image/png": "[encoded data removed]",
            "text/plain": [
              "<Figure size 432x288 with 1 Axes>"
            ]
          },
          "metadata": {
            "needs_background": "light"
          }
        }
      ]
    },
    {
      "cell_type": "code",
      "metadata": {
        "colab": {
          "base_uri": "https://localhost:8080/"
        },
        "id": "CENoBeCdWTA4",
        "outputId": "e6df3513-6025-4976-b485-27cd73accdb4"
      },
      "source": [
        "print(x1)\n",
        "print(y1)"
      ],
      "execution_count": null,
      "outputs": [
        {
          "output_type": "stream",
          "name": "stdout",
          "text": [
            "[0.1, 0.30000000000000004, 0.5, 0.7, 0.8999999999999999, 1.0999999999999999, 1.0999999999999999, 1.0999999999999999, 0.8999999999999999, 0.7, 0.49999999999999994, 0.29999999999999993, 0.09999999999999992, 0.09999999999999992, 0.29999999999999993, 0.49999999999999994, 0.7, 0.8999999999999999, 1.0999999999999999, 1.0999999999999999, 1.0999999999999999, 0.8999999999999999, 0.7, 0.49999999999999994, 0.29999999999999993, 0.09999999999999992, 0.09999999999999992, 0.29999999999999993, 0.49999999999999994, 0.7, 0.8999999999999999, 1.0999999999999999, 1.0999999999999999, 1.0999999999999999, 0.8999999999999999, 0.7, 0.49999999999999994, 0.29999999999999993, 0.09999999999999992]\n",
            "[0.0, 0.0, 0.0, 0.0, 0.0, 0.0, 0.0, 0.1, 0.1, 0.1, 0.1, 0.1, 0.1, 0.2, 0.2, 0.2, 0.2, 0.2, 0.2, 0.2, 0.30000000000000004, 0.30000000000000004, 0.30000000000000004, 0.30000000000000004, 0.30000000000000004, 0.30000000000000004, 0.4, 0.4, 0.4, 0.4, 0.4, 0.4, 0.4, 0.5, 0.5, 0.5, 0.5, 0.5, 0.5]\n"
          ]
        }
      ]
    },
    {
      "cell_type": "code",
      "metadata": {
        "colab": {
          "base_uri": "https://localhost:8080/"
        },
        "id": "tIUX69PiZH_L",
        "outputId": "be9f5755-de46-43cc-90e1-f221f64cd75d"
      },
      "source": [
        "points = []\n",
        "for i in range(len(x1)):\n",
        "  points.append([round(x1[i],3), -1*round(y1[i],3)])\n",
        "print(points)"
      ],
      "execution_count": null,
      "outputs": [
        {
          "output_type": "stream",
          "name": "stdout",
          "text": [
            "[[0.1, -0.0], [0.3, -0.0], [0.5, -0.0], [0.7, -0.0], [0.9, -0.0], [1.1, -0.0], [1.1, -0.0], [1.1, -0.1], [0.9, -0.1], [0.7, -0.1], [0.5, -0.1], [0.3, -0.1], [0.1, -0.1], [0.1, -0.2], [0.3, -0.2], [0.5, -0.2], [0.7, -0.2], [0.9, -0.2], [1.1, -0.2], [1.1, -0.2], [1.1, -0.3], [0.9, -0.3], [0.7, -0.3], [0.5, -0.3], [0.3, -0.3], [0.1, -0.3], [0.1, -0.4], [0.3, -0.4], [0.5, -0.4], [0.7, -0.4], [0.9, -0.4], [1.1, -0.4], [1.1, -0.4], [1.1, -0.5], [0.9, -0.5], [0.7, -0.5], [0.5, -0.5], [0.3, -0.5], [0.1, -0.5]]\n"
          ]
        }
      ]
    },
    {
      "cell_type": "code",
      "metadata": {
        "id": "c8B75kHo9C6W"
      },
      "source": [
        "final_values = [[0.1, -0.0, 0.0], [0.3, -0.0, 0.0], [0.5, -0.0, 0.0], [0.7, -0.0, 0.0], [0.9, -0.0, 0.0], [1.1, -0.0, 0.0], \n",
        "[1.1, -0.0, 0.0], [1.1, -0.1, 0.0], [0.9, -0.1, 0.0], [0.7, -0.1, 0.0], [0.5, -0.1, 0.0], [0.3, -0.1, 0.0], [0.1, -0.1, 0.0], \n",
        "[0.1, -0.2, 0.0], [0.3, -0.2, 0.0], [0.5, -0.2, 0.0], [0.7, -0.2, 0.0], [0.9, -0.2, 0.0], [1.1, -0.2, 0.0], [1.1, -0.2, 0.0], \n",
        "[1.1, -0.3, 0.0], [0.9, -0.3, 0.0], [0.7, -0.3, 0.0], [0.5, -0.3, 0.0], [0.3, -0.3, 0.0], [0.1, -0.3, 0.0], [0.1, -0.4, 0.0], \n",
        "[0.3, -0.4, 0.0], [0.5, -0.4, 0.0], [0.7, -0.4, 0.0], [0.9, -0.4, 0.0], [1.1, -0.4, 0.0], [1.1, -0.4, 0.0], [1.1, -0.5, 0.0], \n",
        "[0.9, -0.5, 0.0], [0.7, -0.5, 0.0], [0.5, -0.5, 0.0], [0.3, -0.5, 0.0], [0.1, -0.5, 0.0]]\n",
        "\n",
        "x = []\n",
        "y = []\n",
        "for i in range(len(final_values)):\n",
        "  x.append(final_values[i][0])\n",
        "  y.append(final_values[i][1])\n",
        "\n",
        "xcor = []\n",
        "ycor = []\n",
        "var = -0.6\n",
        "for i in range(11):\n",
        "  xcor.append(0.0)\n",
        "  ycor.append(var)\n",
        "  xcor.append(1.2)\n",
        "  ycor.append(var)\n",
        "  var = var + 0.1\n",
        "\n",
        "var = 0.0\n",
        "for i in range(13):\n",
        "  xcor.append(var)\n",
        "  ycor.append(-0.6)\n",
        "  xcor.append(var)\n",
        "  ycor.append(0.4)\n",
        "  var = var + 0.1"
      ],
      "execution_count": null,
      "outputs": []
    },
    {
      "cell_type": "code",
      "metadata": {
        "colab": {
          "base_uri": "https://localhost:8080/",
          "height": 282
        },
        "id": "eQLcmrK39q9r",
        "outputId": "5d1fdff1-4749-46f3-f679-c5ef6e965897"
      },
      "source": [
        "import matplotlib.pyplot as plt\n",
        "plt.plot(x,y)\n",
        "plt.scatter(xcor,ycor)"
      ],
      "execution_count": null,
      "outputs": [
        {
          "output_type": "execute_result",
          "data": {
            "text/plain": [
              "<matplotlib.collections.PathCollection at 0x7f7fe775afd0>"
            ]
          },
          "metadata": {},
          "execution_count": 32
        },
        {
          "output_type": "display_data",
          "data": {
            "image/png": "[encoded data removed]",
            "text/plain": [
              "<Figure size 432x288 with 1 Axes>"
            ]
          },
          "metadata": {
            "needs_background": "light"
          }
        }
      ]
    },
    {
      "cell_type": "markdown",
      "metadata": {
        "id": "-2wzT5r2ZHwc"
      },
      "source": [
        ""
      ]
    }
  ]
}